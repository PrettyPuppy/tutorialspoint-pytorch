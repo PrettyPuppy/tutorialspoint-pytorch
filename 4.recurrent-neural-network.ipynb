{
 "cells": [
  {
   "cell_type": "code",
   "execution_count": 2,
   "metadata": {},
   "outputs": [],
   "source": [
    "# Step 1 : Import the necessary packages for implementing recurrent neural network\n",
    "import torch\n",
    "import torch.nn as nn\n",
    "import torch.nn.init as init\n",
    "from torch.autograd import Variable\n",
    "import numpy as np\n",
    "import pylab as pl"
   ]
  },
  {
   "cell_type": "code",
   "execution_count": 3,
   "metadata": {},
   "outputs": [],
   "source": [
    "# Step 2 : Set the model hyper parameters with the size of input layer set to 7.\n",
    "# There will be 6 context neurons and 1 input neuron for creating target sequence\n",
    "dtype = torch.FloatTensor\n",
    "input_size, hidden_size, output_size = 7, 6, 1\n",
    "epochs = 300\n",
    "seq_length = 20\n",
    "lr = 0.1\n",
    "data_time_steps = np.linspace(2, 10, seq_length + 1)\n",
    "data = np.sin(data_time_steps)\n",
    "data.resize((seq_length + 1, 1))\n",
    "\n",
    "x = Variable(torch.Tensor(data[:-1]).type(dtype), requires_grad=False)\n",
    "y = Variable(torch.Tensor(data[1:]).type(dtype), requires_grad=False)"
   ]
  },
  {
   "cell_type": "code",
   "execution_count": 4,
   "metadata": {},
   "outputs": [
    {
     "name": "stderr",
     "output_type": "stream",
     "text": [
      "C:\\Users\\ui\\AppData\\Local\\Temp\\ipykernel_16992\\816415515.py:4: UserWarning: nn.init.normal is now deprecated in favor of nn.init.normal_.\n",
      "  init.normal(w1, 0.0, 0.4)\n",
      "C:\\Users\\ui\\AppData\\Local\\Temp\\ipykernel_16992\\816415515.py:8: UserWarning: nn.init.normal is now deprecated in favor of nn.init.normal_.\n",
      "  init.normal(w2, 0.3, 0.0)\n"
     ]
    }
   ],
   "source": [
    "# Step 3 : Weights are initialized in the recurrent neural network using normal distribution with zero mean.\n",
    "# W1 will represent acceptance of input variables and W2 will represent the output which is generated.\n",
    "w1 = torch.Tensor(input_size, hidden_size).type(dtype)\n",
    "init.normal(w1, 0.0, 0.4)\n",
    "w1 = Variable(w1, requires_grad=True)\n",
    "\n",
    "w2 = torch.Tensor(hidden_size, output_size).type(dtype)\n",
    "init.normal(w2, 0.3, 0.0)\n",
    "w2 = Variable(w2, requires_grad=True)"
   ]
  },
  {
   "cell_type": "code",
   "execution_count": 5,
   "metadata": {},
   "outputs": [],
   "source": [
    "# Step 4 : Create a function for feed forward which uniquely defines the neural network\n",
    "def forward(input, context_state, w1, w2):\n",
    "    xh = torch.cat((input, context_state), 1)\n",
    "    context_state = torch.tanh(xh.mm(w1))\n",
    "    out = context_state.mm(w2)\n",
    "    return (out, context_state)"
   ]
  },
  {
   "cell_type": "code",
   "execution_count": 6,
   "metadata": {},
   "outputs": [
    {
     "name": "stdout",
     "output_type": "stream",
     "text": [
      "Epoch: 0 loss 4.71427059173584\n",
      "Epoch: 10 loss 0.20524361729621887\n",
      "Epoch: 20 loss 0.1951163411140442\n",
      "Epoch: 30 loss 0.18877293169498444\n",
      "Epoch: 40 loss 0.1835704743862152\n",
      "Epoch: 50 loss 0.1791139841079712\n",
      "Epoch: 60 loss 0.1754252165555954\n",
      "Epoch: 70 loss 0.17254222929477692\n",
      "Epoch: 80 loss 0.17045822739601135\n",
      "Epoch: 90 loss 0.16913776099681854\n",
      "Epoch: 100 loss 0.16853761672973633\n",
      "Epoch: 110 loss 0.16862095892429352\n",
      "Epoch: 120 loss 0.16936852037906647\n",
      "Epoch: 130 loss 0.17079435288906097\n",
      "Epoch: 140 loss 0.17298129200935364\n",
      "Epoch: 150 loss 0.17617522180080414\n",
      "Epoch: 160 loss 0.18099556863307953\n",
      "Epoch: 170 loss 0.18862691521644592\n",
      "Epoch: 180 loss 0.19962133467197418\n",
      "Epoch: 190 loss 0.21015363931655884\n",
      "Epoch: 200 loss 0.21716775000095367\n",
      "Epoch: 210 loss 0.22585006058216095\n",
      "Epoch: 220 loss 0.238516703248024\n",
      "Epoch: 230 loss 0.2508842349052429\n",
      "Epoch: 240 loss 0.2590409219264984\n",
      "Epoch: 250 loss 0.26224520802497864\n",
      "Epoch: 260 loss 0.26093655824661255\n",
      "Epoch: 270 loss 0.2558135688304901\n",
      "Epoch: 280 loss 0.24788838624954224\n",
      "Epoch: 290 loss 0.23799459636211395\n"
     ]
    }
   ],
   "source": [
    "# Step 5: Start training procedure of recurrent neural network's sine wave implementation.\n",
    "# The outer loop iterates over each loop and the inner loop iterates through the element of sequence.\n",
    "# here, we will also compute Mean Square Error which helps in the prediction of continuous variables\n",
    "for i in range(epochs):\n",
    "    total_loss = 0\n",
    "    context_state = Variable(torch.zeros((1, hidden_size)).type(dtype), requires_grad=True)\n",
    "    for j in range(x.size(0)):\n",
    "        input = x[j:(j + 1)]\n",
    "        target = y[j:(j + 1)]\n",
    "        (pred, context_state) = forward(input, context_state, w1, w2)\n",
    "        loss = (pred - target).pow(2).sum() / 2\n",
    "        total_loss += loss\n",
    "        loss.backward()\n",
    "        w1.data -= lr * w1.grad.data\n",
    "        w2.data -= lr * w2.grad.data\n",
    "        w1.grad.data.zero_()\n",
    "        w2.grad.data.zero_()\n",
    "        context_state = Variable(context_state.data)\n",
    "    if i % 10 == 0:\n",
    "        print('Epoch: {0} loss {1}'.format(i, total_loss.data))\n",
    "\n",
    "context_state = Variable(torch.zeros((1, hidden_size)).type(dtype), requires_grad=False)\n",
    "predictions = []\n",
    "\n",
    "for i in range(x.size(0)):\n",
    "    input = x[i: i + 1]\n",
    "    (pred, context_state) = forward(input, context_state, w1, w2)\n",
    "    context_state = context_state\n",
    "    predictions.append(pred.data.numpy().ravel()[0])"
   ]
  },
  {
   "cell_type": "code",
   "execution_count": 7,
   "metadata": {},
   "outputs": [
    {
     "ename": "",
     "evalue": "",
     "output_type": "error",
     "traceback": [
      "\u001b[1;31mCannot execute code, session has been disposed. Please try restarting the Kernel."
     ]
    },
    {
     "ename": "",
     "evalue": "",
     "output_type": "error",
     "traceback": [
      "\u001b[1;31mThe Kernel crashed while executing code in the the current cell or a previous cell. Please review the code in the cell(s) to identify a possible cause of the failure. Click <a href='https://aka.ms/vscodeJupyterKernelCrash'>here</a> for more info. View Jupyter <a href='command:jupyter.viewOutput'>log</a> for further details."
     ]
    }
   ],
   "source": [
    "# Step 6 : Plot the sine wave as the way it is needed\n",
    "pl.scatter(data_time_steps[:-1], x.data.numpy(), s = 90, label = 'Actual')\n",
    "pl.scatter(data_time_steps[1:], predictions)\n",
    "pl.legend()\n",
    "pl.show()"
   ]
  }
 ],
 "metadata": {
  "kernelspec": {
   "display_name": "Python 3",
   "language": "python",
   "name": "python3"
  },
  "language_info": {
   "codemirror_mode": {
    "name": "ipython",
    "version": 3
   },
   "file_extension": ".py",
   "mimetype": "text/x-python",
   "name": "python",
   "nbconvert_exporter": "python",
   "pygments_lexer": "ipython3",
   "version": "3.10.9"
  },
  "orig_nbformat": 4
 },
 "nbformat": 4,
 "nbformat_minor": 2
}
