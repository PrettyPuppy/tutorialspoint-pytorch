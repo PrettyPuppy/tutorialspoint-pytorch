{
 "cells": [
  {
   "cell_type": "code",
   "execution_count": 1,
   "metadata": {},
   "outputs": [],
   "source": [
    "# Step 1 : Import the necessary package\n",
    "import torch\n",
    "import torch.nn.functional as F\n",
    "from torch.autograd import Variable"
   ]
  },
  {
   "cell_type": "code",
   "execution_count": null,
   "metadata": {},
   "outputs": [],
   "source": [
    "# Step 2 : Create a class with batch representation of convolutional neural network\n",
    "class SimpleCNN(torch.nn.Module):\n",
    "    def __init__(self) -> None:\n",
    "        super(SimpleCNN, self).__init__()\n",
    "        \n",
    "        # Input channels = 3, output channels = 18\n",
    "        self.conv1 = torch.nn.Conv2d(3, 18, kernel_size=3, stride=1, padding=1)\n",
    "        self.pool = torch.nn.MaxPool2d(kernel_size=2, stride=2, padding=0)\n",
    "\n",
    "        # 4608 input features, 64 output features ( see sizing flow below )\n",
    "        self.fc1 = torch.nn.Linear(18 * 16 * 16, 64)\n",
    "\n",
    "        # 64 input features, 10 output features for our 10 defined classes\n",
    "        self.fc2 = torch.nn.Linear(64, 10)\n",
    "\n",
    "    def forward(self, x):\n",
    "        x = F.relu(self.conv1(x))\n",
    "        x = self.pool(x)\n",
    "        x = x.view(-1, 18 * 16 * 16)\n",
    "        x = F.relu(self.fc1(x))\n",
    "\n",
    "        # Computers the second fully connected layer(activation applied later)\n",
    "        # Size changes from (1, 64) to (1, 10)\n",
    "        x = self.fc2(x)\n",
    "        return (x)"
   ]
  }
 ],
 "metadata": {
  "kernelspec": {
   "display_name": "Python 3",
   "language": "python",
   "name": "python3"
  },
  "language_info": {
   "codemirror_mode": {
    "name": "ipython",
    "version": 3
   },
   "file_extension": ".py",
   "mimetype": "text/x-python",
   "name": "python",
   "nbconvert_exporter": "python",
   "pygments_lexer": "ipython3",
   "version": "3.10.9"
  },
  "orig_nbformat": 4
 },
 "nbformat": 4,
 "nbformat_minor": 2
}
